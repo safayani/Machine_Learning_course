{
 "cells": [
  {
   "cell_type": "markdown",
   "metadata": {},
   "source": [
    "# Polynomial Regression"
   ]
  },
  {
   "cell_type": "markdown",
   "metadata": {},
   "source": [
    "### Generating Random data on curve \n"
   ]
  },
  {
   "cell_type": "code",
   "execution_count": 18,
   "metadata": {},
   "outputs": [
    {
     "name": "stdout",
     "output_type": "stream",
     "text": [
      "y=-6.64-10.52*x-12.66*x^2\n"
     ]
    },
    {
     "data": {
      "image/png": "[encoded data removed]",
      "text/plain": [
       "<Figure size 432x288 with 1 Axes>"
      ]
     },
     "metadata": {
      "needs_background": "light"
     },
     "output_type": "display_data"
    }
   ],
   "source": [
    "import numpy as np\n",
    "import matplotlib.pyplot as plt\n",
    "from sklearn.preprocessing import PolynomialFeatures\n",
    "nsample=20\n",
    "\n",
    "np.random.seed(100)\n",
    "X = 2 * np.random.rand(nsample, 1)\n",
    "a=5*np.random.randn()-10\n",
    "b=5*np.random.randn()-10\n",
    "c=5*np.random.randn()-10\n",
    "y = a + b * X + c * X ** 2 +1*np.random.randn(nsample, 1)\n",
    "print('y={:+0.2f}{:+0.2f}*x{:+0.2f}*x^2'.format(a,b,c))\n",
    "plt.scatter(X, y, color='blue') \n",
    "plt.xlabel('X') \n",
    "plt.ylabel('y') \n",
    "plt.title('Generated Random data') \n",
    "plt.show()"
   ]
  },
  {
   "cell_type": "markdown",
   "metadata": {},
   "source": [
    "### initialize parameters and adding quadratic features to X"
   ]
  },
  {
   "cell_type": "code",
   "execution_count": 19,
   "metadata": {},
   "outputs": [
    {
     "name": "stdout",
     "output_type": "stream",
     "text": [
      "(20, 1)\n",
      "(20, 3)\n",
      "[1.08680988]\n",
      "[1.         1.08680988 1.18115572]\n"
     ]
    }
   ],
   "source": [
    "from sklearn import preprocessing\n",
    "# you can set degree of polynomial from 1-5 with 0.01 learning rate with increased degree you should lower learning rate\n",
    "\n",
    "\n",
    "degree = 2\n",
    "poly_features = PolynomialFeatures(degree=degree, include_bias=True)\n",
    "X_poly = poly_features.fit_transform(X)\n",
    "print(np.shape(X))\n",
    "print(np.shape(X_poly))\n",
    "print(X[0])\n",
    "print(X_poly[0])\n",
    "\n"
   ]
  },
  {
   "cell_type": "markdown",
   "metadata": {},
   "source": [
    "### training using Normal Equation"
   ]
  },
  {
   "cell_type": "code",
   "execution_count": 20,
   "metadata": {},
   "outputs": [
    {
     "data": {
      "image/png": "[encoded data removed]",
      "text/plain": [
       "<Figure size 432x288 with 1 Axes>"
      ]
     },
     "metadata": {
      "needs_background": "light"
     },
     "output_type": "display_data"
    },
    {
     "name": "stdout",
     "output_type": "stream",
     "text": [
      "y=-6.64-10.52*x-12.66*x^2\n",
      "teta1= [[ -5.97043385]\n",
      " [-12.02867861]\n",
      " [-11.88026327]]\n"
     ]
    }
   ],
   "source": [
    "def linear_regression_normal_equation(X, y):\n",
    "    X_transpose = np.transpose(X)\n",
    "    X_transpose_X = np.dot(X_transpose, X)\n",
    "    X_transpose_y = np.dot(X_transpose, y)\n",
    "     \n",
    "    try:\n",
    "        invx=np.linalg.inv(X_transpose_X)\n",
    "        theta=np.dot(invx, X_transpose_y)\n",
    "        return theta\n",
    "    except np.linalg.LinAlgError:\n",
    "        return None\n",
    " \n",
    " \n",
    "# Add a column of ones to X for the intercept term\n",
    "#X_with_intercept = np.c_[np.ones((X.shape[0], 1)), X]\n",
    " \n",
    "theta1 = linear_regression_normal_equation(X_poly, y)\n",
    "#print('teta1=',theta1)\n",
    "#if theta is not None:\n",
    "#    print(theta)\n",
    "#else:\n",
    "#    print(\"Unable to compute theta. The matrix X_transpose_X is singular.\")\n",
    "    \n",
    "X_plot = np.linspace(X.min(), X.max(), 100).reshape(-1, 1)\n",
    "X_plot_poly = poly_features.transform(X_plot)\n",
    "y_pred_plot = X_plot_poly.dot(theta1)\n",
    "plt.scatter(X, y, color='blue')\n",
    "plt.plot(X_plot, y_pred_plot, color='green')\n",
    "plt.title(f\"Final prediction\")\n",
    "plt.show()\n",
    "\n",
    "\n",
    "\n",
    "print('y={:+0.2f}{:+0.2f}*x{:+0.2f}*x^2'.format(a,b,c))\n",
    "\n",
    "print('teta1=',theta1)\n"
   ]
  },
  {
   "cell_type": "code",
   "execution_count": null,
   "metadata": {},
   "outputs": [],
   "source": []
  }
 ],
 "metadata": {
  "kernelspec": {
   "display_name": "Python 3 (ipykernel)",
   "language": "python",
   "name": "python3"
  },
  "language_info": {
   "codemirror_mode": {
    "name": "ipython",
    "version": 3
   },
   "file_extension": ".py",
   "mimetype": "text/x-python",
   "name": "python",
   "nbconvert_exporter": "python",
   "pygments_lexer": "ipython3",
   "version": "3.9.12"
  }
 },
 "nbformat": 4,
 "nbformat_minor": 2
}
